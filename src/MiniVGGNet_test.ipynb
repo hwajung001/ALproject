{
 "cells": [
  {
   "cell_type": "markdown",
   "id": "8bab6afa",
   "metadata": {},
   "source": [
    "## 테스트 데이터셋 로드"
   ]
  },
  {
   "cell_type": "code",
   "execution_count": 1,
   "id": "19f45667",
   "metadata": {},
   "outputs": [],
   "source": [
    "import os\n",
    "import urllib.request\n",
    "import tarfile\n",
    "import pickle\n",
    "import numpy as np\n",
    "from common.MiniVGGNet import MiniVGGNet\n",
    "\n",
    "def download_cifar100(save_path='cifar-100-python'):\n",
    "    if os.path.exists(save_path):\n",
    "        print(\"CIFAR-100 이미 존재\")\n",
    "        return\n",
    "\n",
    "    url = 'https://www.cs.toronto.edu/~kriz/cifar-100-python.tar.gz'\n",
    "    filename = 'cifar-100-python.tar.gz'\n",
    "    print(\"CIFAR-100 다운로드 중...\")\n",
    "    urllib.request.urlretrieve(url, filename)\n",
    "\n",
    "    with tarfile.open(filename, 'r:gz') as tar:\n",
    "        tar.extractall()\n",
    "    os.remove(filename)\n",
    "    print(\"다운로드 완료\")\n",
    "\n",
    "def load_batch(filepath):\n",
    "    with open(filepath, 'rb') as f:\n",
    "        data_dict = pickle.load(f, encoding='bytes')\n",
    "    data = data_dict[b'data']\n",
    "    fine_labels = np.array(data_dict[b'fine_labels'])\n",
    "    coarse_labels = np.array(data_dict[b'coarse_labels'])\n",
    "    data = data.reshape(-1, 3, 32, 32).astype(np.float32) / 255.0\n",
    "\n",
    "    mean = np.array([0.5071, 0.4865, 0.4409]).reshape(1, 3, 1, 1)\n",
    "    std = np.array([0.2673, 0.2564, 0.2762]).reshape(1, 3, 1, 1)\n",
    "    data = (data - mean) / std\n",
    "\n",
    "    return data, fine_labels, coarse_labels"
   ]
  },
  {
   "cell_type": "code",
   "execution_count": 2,
   "id": "39a0f2c6",
   "metadata": {},
   "outputs": [],
   "source": [
    "def load_cifar100_full(data_dir='./cifar-100-python', valid_ratio=0.1):\n",
    "    # 1. Load train and test batch\n",
    "    x_train_all, y_train_fine_all, y_train_coarse_all = load_batch(os.path.join(data_dir, 'train'))\n",
    "    x_test, y_test_fine, y_test_coarse = load_batch(os.path.join(data_dir, 'test'))\n",
    "\n",
    "    # 2. Split train → train + validation\n",
    "    num_total = x_train_all.shape[0]\n",
    "    num_valid = int(num_total * valid_ratio)\n",
    "\n",
    "    x_valid = x_train_all[:num_valid]\n",
    "    t_valid_fine = y_train_fine_all[:num_valid]\n",
    "    t_valid_coarse = y_train_coarse_all[:num_valid]\n",
    "\n",
    "    x_train = x_train_all[num_valid:]\n",
    "    t_train_fine = y_train_fine_all[num_valid:]\n",
    "    t_train_coarse = y_train_coarse_all[num_valid:]\n",
    "\n",
    "    # 3. Return all\n",
    "    return (x_train, x_valid, x_test,\n",
    "            t_train_coarse, t_valid_coarse, y_test_coarse,\n",
    "            t_train_fine, t_valid_fine, y_test_fine)"
   ]
  },
  {
   "cell_type": "code",
   "execution_count": 3,
   "id": "22a17de7",
   "metadata": {},
   "outputs": [
    {
     "name": "stdout",
     "output_type": "stream",
     "text": [
      "CIFAR-100 이미 존재\n",
      "CIFAR-100 데이터셋 로드 완료:\n",
      " - x_train: (45000, 3, 32, 32)\n",
      " - x_valid: (5000, 3, 32, 32)\n",
      " - x_test : (10000, 3, 32, 32)\n",
      " - t_train_fine : (45000,)\n",
      " - t_valid_fine : (5000,)\n",
      " - t_test_fine  : (10000,)\n",
      " - t_train_coarse: (45000,)\n",
      " - t_valid_coarse: (5000,)\n",
      " - t_test_coarse : (10000,)\n"
     ]
    }
   ],
   "source": [
    "# CIFAR-100 다운로드\n",
    "download_cifar100()\n",
    "\n",
    "# 전체 데이터셋 로드\n",
    "(x_train, x_valid, x_test,\n",
    " t_train_coarse, t_valid_coarse, t_test_coarse,\n",
    " t_train_fine, t_valid_fine, t_test_fine) = load_cifar100_full()\n",
    "\n",
    "# 확인 출력\n",
    "print(\"CIFAR-100 데이터셋 로드 완료:\")\n",
    "print(\" - x_train:\", x_train.shape)\n",
    "print(\" - x_valid:\", x_valid.shape)\n",
    "print(\" - x_test :\", x_test.shape)\n",
    "print(\" - t_train_fine :\", t_train_fine.shape)\n",
    "print(\" - t_valid_fine :\", t_valid_fine.shape)\n",
    "print(\" - t_test_fine  :\", t_test_fine.shape)\n",
    "print(\" - t_train_coarse:\", t_train_coarse.shape)\n",
    "print(\" - t_valid_coarse:\", t_valid_coarse.shape)\n",
    "print(\" - t_test_coarse :\", t_test_coarse.shape)\n"
   ]
  },
  {
   "cell_type": "code",
   "execution_count": 4,
   "id": "e2063c0f",
   "metadata": {},
   "outputs": [],
   "source": [
    "def restore_model_parameters(model, model_state):\n",
    "    for name in ['conv1', 'conv2', 'conv3', 'conv4', 'conv5', 'fc1', 'fc2']:\n",
    "        layer = getattr(model, name)\n",
    "        if hasattr(layer, 'W'):\n",
    "            layer.W = model_state[f'{name}_W']\n",
    "            layer.b = model_state[f'{name}_b']\n",
    "\n",
    "def restore_bn_params(model, bn_state):\n",
    "    for idx, name in enumerate(['bn1', 'bn2', 'bn3', 'bn4', 'bn5']):\n",
    "        bn = getattr(model, name)\n",
    "        bn.gamma = bn_state[f'bn{idx}_gamma']\n",
    "        bn.beta = bn_state[f'bn{idx}_beta']\n",
    "        bn.running_mean = bn_state[f'bn{idx}_running_mean']\n",
    "        bn.running_var = bn_state[f'bn{idx}_running_var']"
   ]
  },
  {
   "cell_type": "code",
   "execution_count": 5,
   "id": "147679ca",
   "metadata": {},
   "outputs": [],
   "source": [
    "model = MiniVGGNet()\n",
    "\n",
    "with open(\"MiniVGGNet_final_ex1_best.pkl\", \"rb\") as f:\n",
    "    checkpoint = pickle.load(f)\n",
    "    model_state = checkpoint[\"model\"]\n",
    "    bn_state = checkpoint[\"bn\"]\n",
    "    \n",
    "restore_bn_params(model, bn_state)\n",
    "restore_model_parameters(model, model_state)"
   ]
  },
  {
   "cell_type": "code",
   "execution_count": 14,
   "id": "dda923f3",
   "metadata": {},
   "outputs": [
    {
     "name": "stdout",
     "output_type": "stream",
     "text": [
      "dict_keys(['model', 'bn', 'optimizer', 'train_loss_list', 'train_acc_list', 'val_acc_list', 'val_loss_list'])\n"
     ]
    }
   ],
   "source": [
    "print(checkpoint.keys())"
   ]
  },
  {
   "cell_type": "code",
   "execution_count": 15,
   "id": "be8c88c5",
   "metadata": {},
   "outputs": [
    {
     "name": "stdout",
     "output_type": "stream",
     "text": [
      "fc2 std: 0.020376587951831216\n",
      "bn1.running_mean[:5]: [  -41.22232356 -1228.74785389  2062.39043984  1563.41479386\n",
      " -3176.95858672]\n"
     ]
    }
   ],
   "source": [
    "print(\"fc2 std:\", np.std(model.fc2.W))           # ≈ 0.1~0.3\n",
    "print(\"bn1.running_mean[:5]:\", model.bn1.running_mean[:5])  # 0이면 복원 실패"
   ]
  },
  {
   "cell_type": "code",
   "execution_count": 16,
   "id": "5ffa371e",
   "metadata": {},
   "outputs": [
    {
     "name": "stdout",
     "output_type": "stream",
     "text": [
      "0.004534291272868822\n",
      "1.0035214780791422\n"
     ]
    }
   ],
   "source": [
    "print(np.mean(x_test))  # ≈ 0.0\n",
    "print(np.std(x_test))   # ≈ 1.0"
   ]
  },
  {
   "cell_type": "code",
   "execution_count": 17,
   "id": "2269ab3a",
   "metadata": {},
   "outputs": [
    {
     "name": "stdout",
     "output_type": "stream",
     "text": [
      "logits[0] sum: 17.037402995057164\n"
     ]
    }
   ],
   "source": [
    "logits = model.predict(x_test[:10])\n",
    "print(\"logits[0] sum:\", np.sum(logits[0]))  # softmax 전 결과, sum != 1.0 정상"
   ]
  },
  {
   "cell_type": "code",
   "execution_count": 7,
   "id": "5948f3f4",
   "metadata": {},
   "outputs": [],
   "source": [
    "from common.functions import softmax  \n",
    "\n",
    "def evaluate_model(model, x, y_true):\n",
    "    batch_size = 100\n",
    "    preds = []\n",
    "    for i in range(0, x.shape[0], batch_size):\n",
    "        x_batch = x[i:i+batch_size]\n",
    "        logits = model.predict(x_batch)        \n",
    "        probs = softmax(logits)                \n",
    "        y_pred = np.argmax(probs, axis=1)\n",
    "        preds.append(y_pred)\n",
    "    preds = np.concatenate(preds)\n",
    "    acc = np.sum(preds == y_true) / len(y_true)\n",
    "    return preds, acc\n",
    "\n",
    "#pred : 예측된 클래스 번호\n",
    "#전체 정확도"
   ]
  },
  {
   "cell_type": "code",
   "execution_count": 8,
   "id": "b668056e",
   "metadata": {},
   "outputs": [
    {
     "name": "stdout",
     "output_type": "stream",
     "text": [
      "[🎯 Fine Label] Train Accuracy: 0.0099\n"
     ]
    }
   ],
   "source": [
    "fine_preds, fine_acc = evaluate_model(model, x_train, t_train_fine)\n",
    "print(f\"[🎯 Fine Label] Train Accuracy: {fine_acc:.4f}\")"
   ]
  },
  {
   "cell_type": "code",
   "execution_count": 9,
   "id": "38291323",
   "metadata": {},
   "outputs": [
    {
     "name": "stdout",
     "output_type": "stream",
     "text": [
      "[🎯 Fine Label] Valid Accuracy: 0.0106\n"
     ]
    }
   ],
   "source": [
    "fine_valid_preds, fine_valid_acc = evaluate_model(model, x_valid, t_valid_fine)\n",
    "print(f\"[🎯 Fine Label] Valid Accuracy: {fine_valid_acc:.4f}\")"
   ]
  },
  {
   "cell_type": "code",
   "execution_count": 10,
   "id": "acc2477f",
   "metadata": {},
   "outputs": [
    {
     "name": "stdout",
     "output_type": "stream",
     "text": [
      "[🎯 Fine Label] Test Accuracy: 0.0100\n"
     ]
    }
   ],
   "source": [
    "fine_test_preds, fine_test_acc = evaluate_model(model, x_test, t_test_fine)\n",
    "print(f\"[🎯 Fine Label] Test Accuracy: {fine_test_acc:.4f}\")"
   ]
  },
  {
   "cell_type": "markdown",
   "id": "30733997",
   "metadata": {},
   "source": [
    "## 매핑 전 필요한거"
   ]
  },
  {
   "cell_type": "code",
   "execution_count": 11,
   "id": "e66f6fae-f226-46e7-8daa-81a239c2d8fc",
   "metadata": {},
   "outputs": [
    {
     "name": "stdout",
     "output_type": "stream",
     "text": [
      "[🎯 방식 1 - Argmax Mapping]     Coarse Accuracy: 0.0501\n",
      "[🔍 방식 2 - Entropy Weighted]   Coarse Accuracy: 0.0501\n",
      "[🧪 방식 3 - Soft Average]        Coarse Accuracy: 0.0501\n",
      "[📊 방식 4 - Validation Guided]  Coarse Accuracy: 0.0501\n"
     ]
    }
   ],
   "source": [
    "## train set\n",
    "import numpy as np\n",
    "from common.functions import softmax\n",
    "from common.coarse_mapping import get_cifar100_fine_to_coarse_dict, CoarseMapper, compute_coarse_accuracy, compute_fine_class_accuracy\n",
    "\n",
    "# 1. fine → coarse 매핑 딕셔너리 및 매퍼 클래스 준비\n",
    "f2c = get_cifar100_fine_to_coarse_dict()\n",
    "mapper = CoarseMapper(f2c)\n",
    "\n",
    "# 2. 모델 출력 얻기\n",
    "logits = model.predict(x_train)          # (N, 100)\n",
    "fine_probs = softmax(logits)             # (N, 100)\n",
    "fine_preds = np.argmax(fine_probs, axis=1)\n",
    "\n",
    "# 3. 정답 coarse label 변환\n",
    "true_coarse = np.array([f2c[f] for f in t_train_fine])\n",
    "\n",
    "# 4. 각 방식별 coarse 예측 및 정확도 계산\n",
    "# 방식 1: Argmax 기반\n",
    "pred_coarse_1 = mapper.argmax_mapping(fine_probs)\n",
    "acc1 = compute_coarse_accuracy(pred_coarse_1, true_coarse)\n",
    "print(f\"[🎯 방식 1 - Argmax Mapping]     Coarse Accuracy: {acc1:.4f}\")\n",
    "\n",
    "# 방식 2: Entropy Weighted Mapping\n",
    "pred_coarse_2 = mapper.entropy_weighted_mapping(fine_probs)\n",
    "acc2 = compute_coarse_accuracy(pred_coarse_2, true_coarse)\n",
    "print(f\"[🔍 방식 2 - Entropy Weighted]   Coarse Accuracy: {acc2:.4f}\")\n",
    "\n",
    "# 방식 3: Soft Average Mapping\n",
    "pred_coarse_3 = mapper.soft_average_mapping(fine_probs)\n",
    "acc3 = compute_coarse_accuracy(pred_coarse_3, true_coarse)\n",
    "print(f\"[🧪 방식 3 - Soft Average]        Coarse Accuracy: {acc3:.4f}\")\n",
    "\n",
    "# 방식 4: Validation Guided Mapping\n",
    "# fine class별 accuracy 기반 가중치 구하기\n",
    "fine_weights = compute_fine_class_accuracy(fine_preds, t_train_fine)\n",
    "pred_coarse_4 = mapper.validation_guided_mapping(fine_probs, fine_weights)\n",
    "acc4 = compute_coarse_accuracy(pred_coarse_4, true_coarse)\n",
    "print(f\"[📊 방식 4 - Validation Guided]  Coarse Accuracy: {acc4:.4f}\")\n",
    "\n"
   ]
  },
  {
   "cell_type": "code",
   "execution_count": 12,
   "id": "70cb02d7-f7c0-43b1-8f44-644e6fac87df",
   "metadata": {},
   "outputs": [
    {
     "name": "stdout",
     "output_type": "stream",
     "text": [
      "[🎯 방식 1 - Argmax Mapping]     Validation Coarse Accuracy: 0.0488\n",
      "[🔍 방식 2 - Entropy Weighted]   Validation Coarse Accuracy: 0.0488\n",
      "[🧪 방식 3 - Soft Average]        Validation Coarse Accuracy: 0.0488\n",
      "[📊 방식 4 - Validation Guided]  Validation Coarse Accuracy: 0.0488\n"
     ]
    }
   ],
   "source": [
    "## valid set\n",
    "import numpy as np\n",
    "from common.functions import softmax\n",
    "from common.coarse_mapping import (\n",
    "    get_cifar100_fine_to_coarse_dict,\n",
    "    CoarseMapper,\n",
    "    compute_fine_class_accuracy,\n",
    "    compute_coarse_accuracy\n",
    ")\n",
    "\n",
    "# 1. 딕셔너리 및 coarse 매퍼 초기화\n",
    "f2c = get_cifar100_fine_to_coarse_dict()\n",
    "mapper = CoarseMapper(f2c)\n",
    "\n",
    "# 2. validation set 예측\n",
    "val_logits = model.predict(x_valid)            # (N, 100)\n",
    "val_probs = softmax(val_logits)\n",
    "val_preds = np.argmax(val_probs, axis=1)\n",
    "true_coarse_val = np.array([f2c[f] for f in t_valid_fine])  # 정답 coarse\n",
    "\n",
    "# 3. fine accuracy 계산 (자체 validation용 가중치 생성)\n",
    "fine_weights_val = compute_fine_class_accuracy(val_preds, t_valid_fine)  # (100,)\n",
    "\n",
    "# 4. coarse mapping 방식별 평가\n",
    "\n",
    "# [1] Argmax Mapping\n",
    "pred_coarse_1 = mapper.argmax_mapping(val_probs)\n",
    "acc1 = compute_coarse_accuracy(pred_coarse_1, true_coarse_val)\n",
    "print(f\"[🎯 방식 1 - Argmax Mapping]     Validation Coarse Accuracy: {acc1:.4f}\")\n",
    "\n",
    "# [2] Entropy Weighted Mapping\n",
    "pred_coarse_2 = mapper.entropy_weighted_mapping(val_probs)\n",
    "acc2 = compute_coarse_accuracy(pred_coarse_2, true_coarse_val)\n",
    "print(f\"[🔍 방식 2 - Entropy Weighted]   Validation Coarse Accuracy: {acc2:.4f}\")\n",
    "\n",
    "# [3] Soft Average Mapping\n",
    "pred_coarse_3 = mapper.soft_average_mapping(val_probs)\n",
    "acc3 = compute_coarse_accuracy(pred_coarse_3, true_coarse_val)\n",
    "print(f\"[🧪 방식 3 - Soft Average]        Validation Coarse Accuracy: {acc3:.4f}\")\n",
    "\n",
    "# [4] Validation Guided Mapping (val 내부에서 weight 추정)\n",
    "pred_coarse_4 = mapper.validation_guided_mapping(val_probs, fine_weights_val)\n",
    "acc4 = compute_coarse_accuracy(pred_coarse_4, true_coarse_val)\n",
    "print(f\"[📊 방식 4 - Validation Guided]  Validation Coarse Accuracy: {acc4:.4f}\")\n"
   ]
  },
  {
   "cell_type": "code",
   "execution_count": 13,
   "id": "c82aebf9-b359-4e47-8c52-2f5238f15e63",
   "metadata": {},
   "outputs": [
    {
     "name": "stdout",
     "output_type": "stream",
     "text": [
      "[🎯 방식 1 - Argmax Mapping]     Test Coarse Accuracy: 0.0500\n",
      "[🔍 방식 2 - Entropy Weighted]   Test Coarse Accuracy: 0.0500\n",
      "[🧪 방식 3 - Soft Average]        Test Coarse Accuracy: 0.0500\n",
      "[📊 방식 4 - Validation Guided]  Test Coarse Accuracy: 0.0500\n"
     ]
    }
   ],
   "source": [
    "## test set\n",
    "import numpy as np\n",
    "from common.functions import softmax\n",
    "from common.coarse_mapping import (\n",
    "    get_cifar100_fine_to_coarse_dict,\n",
    "    CoarseMapper,\n",
    "    compute_fine_class_accuracy,\n",
    "    compute_coarse_accuracy\n",
    ")\n",
    "\n",
    "# 1. 매핑 딕셔너리 및 매퍼 준비\n",
    "f2c = get_cifar100_fine_to_coarse_dict()\n",
    "mapper = CoarseMapper(f2c)\n",
    "\n",
    "# 2. validation set으로 fine accuracy → weight 계산\n",
    "val_logits = model.predict(x_valid)              # (num_val, 100)\n",
    "val_probs = softmax(val_logits)\n",
    "val_preds = np.argmax(val_probs, axis=1)\n",
    "fine_weights = compute_fine_class_accuracy(val_preds, t_valid_fine)  # (100,)\n",
    "\n",
    "# 3. test set 예측\n",
    "test_logits = model.predict(x_test)              # (num_test, 100)\n",
    "test_probs = softmax(test_logits)\n",
    "test_fine_preds = np.argmax(test_probs, axis=1)\n",
    "true_coarse = np.array([f2c[f] for f in t_test_fine])  # 정답 coarse\n",
    "\n",
    "# 4. coarse mapping 방식별 평가\n",
    "# [1] Argmax Mapping\n",
    "pred_coarse_1 = mapper.argmax_mapping(test_probs)\n",
    "acc1 = compute_coarse_accuracy(pred_coarse_1, true_coarse)\n",
    "print(f\"[🎯 방식 1 - Argmax Mapping]     Test Coarse Accuracy: {acc1:.4f}\")\n",
    "\n",
    "# [2] Entropy Weighted Mapping\n",
    "pred_coarse_2 = mapper.entropy_weighted_mapping(test_probs)\n",
    "acc2 = compute_coarse_accuracy(pred_coarse_2, true_coarse)\n",
    "print(f\"[🔍 방식 2 - Entropy Weighted]   Test Coarse Accuracy: {acc2:.4f}\")\n",
    "\n",
    "# [3] Soft Average Mapping\n",
    "pred_coarse_3 = mapper.soft_average_mapping(test_probs)\n",
    "acc3 = compute_coarse_accuracy(pred_coarse_3, true_coarse)\n",
    "print(f\"[🧪 방식 3 - Soft Average]        Test Coarse Accuracy: {acc3:.4f}\")\n",
    "\n",
    "# [4] Validation Guided Mapping (with val weights)\n",
    "pred_coarse_4 = mapper.validation_guided_mapping(test_probs, fine_weights)\n",
    "acc4 = compute_coarse_accuracy(pred_coarse_4, true_coarse)\n",
    "print(f\"[📊 방식 4 - Validation Guided]  Test Coarse Accuracy: {acc4:.4f}\")\n"
   ]
  },
  {
   "cell_type": "code",
   "execution_count": null,
   "id": "fe7201f2-e06a-4024-b7aa-40d179bb2fb7",
   "metadata": {},
   "outputs": [],
   "source": []
  }
 ],
 "metadata": {
  "kernelspec": {
   "display_name": "ann",
   "language": "python",
   "name": "python3"
  },
  "language_info": {
   "codemirror_mode": {
    "name": "ipython",
    "version": 3
   },
   "file_extension": ".py",
   "mimetype": "text/x-python",
   "name": "python",
   "nbconvert_exporter": "python",
   "pygments_lexer": "ipython3",
   "version": "3.12.7"
  }
 },
 "nbformat": 4,
 "nbformat_minor": 5
}
