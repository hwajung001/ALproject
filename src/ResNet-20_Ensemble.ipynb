{
 "cells": [
  {
   "cell_type": "code",
   "execution_count": 1,
   "metadata": {},
   "outputs": [],
   "source": [
    "import os\n",
    "import urllib.request\n",
    "import tarfile\n",
    "import pickle\n",
    "import numpy as np\n",
    "from common.ResNet20 import ResNet20\n",
    "from common.functions import softmax\n",
    "\n",
    "def download_cifar100(save_path='cifar-100-python'):\n",
    "    if os.path.exists(save_path):\n",
    "        print(\"CIFAR-100 이미 존재\")\n",
    "        return\n",
    "    url = 'https://www.cs.toronto.edu/~kriz/cifar-100-python.tar.gz'\n",
    "    filename = 'cifar-100-python.tar.gz'\n",
    "    print(\"CIFAR-100 다운로드 중...\")\n",
    "    urllib.request.urlretrieve(url, filename)\n",
    "    with tarfile.open(filename, 'r:gz') as tar:\n",
    "        tar.extractall()\n",
    "    os.remove(filename)\n",
    "    print(\"다운로드 완료\")\n",
    "\n",
    "def load_batch(filepath):\n",
    "    with open(filepath, 'rb') as f:\n",
    "        data_dict = pickle.load(f, encoding='bytes')\n",
    "    data = data_dict[b'data']\n",
    "    fine_labels = np.array(data_dict[b'fine_labels'])\n",
    "    coarse_labels = np.array(data_dict[b'coarse_labels'])\n",
    "    data = data.reshape(-1, 3, 32, 32).astype(np.float32) / 255.0\n",
    "    return data, fine_labels, coarse_labels"
   ]
  },
  {
   "cell_type": "code",
   "execution_count": 2,
   "metadata": {},
   "outputs": [],
   "source": [
    "def load_cifar100_full(data_dir='./cifar-100-python', valid_ratio=0.1):\n",
    "    x_train_all, y_train_fine_all, y_train_coarse_all = load_batch(os.path.join(data_dir, 'train'))\n",
    "    x_test, y_test_fine, y_test_coarse = load_batch(os.path.join(data_dir, 'test'))\n",
    "    num_total = x_train_all.shape[0]\n",
    "    num_valid = int(num_total * valid_ratio)\n",
    "    x_valid = x_train_all[:num_valid]\n",
    "    t_valid_fine = y_train_fine_all[:num_valid]\n",
    "    t_valid_coarse = y_train_coarse_all[:num_valid]\n",
    "    x_train = x_train_all[num_valid:]\n",
    "    t_train_fine = y_train_fine_all[num_valid:]\n",
    "    t_train_coarse = y_train_coarse_all[num_valid:]\n",
    "    return (x_train, x_valid, x_test,\n",
    "            t_train_coarse, t_valid_coarse, y_test_coarse,\n",
    "            t_train_fine, t_valid_fine, y_test_fine)"
   ]
  },
  {
   "cell_type": "code",
   "execution_count": 3,
   "metadata": {},
   "outputs": [],
   "source": [
    "def restore_model_parameters(model, model_state):\n",
    "    model.conv1.W = model_state['conv1_W']\n",
    "    model.conv1.b = model_state['conv1_b']\n",
    "    model.fc.W = model_state['fc_W']\n",
    "    model.fc.b = model_state['fc_b']\n",
    "    idx = 0\n",
    "    for block in model.layer1 + model.layer2 + model.layer3:\n",
    "        for attr in ['conv1', 'conv2', 'shortcut']:\n",
    "            if hasattr(block, attr):\n",
    "                conv = getattr(block, attr)\n",
    "                conv.W = model_state[f'{idx}_W']\n",
    "                conv.b = model_state[f'{idx}_b']\n",
    "                idx += 1\n",
    "\n",
    "def restore_bn_params(model, state):\n",
    "    bn_count = 0\n",
    "    for block in model.layer1 + model.layer2 + model.layer3:\n",
    "        for attr in ['bn1', 'bn2']:\n",
    "            bn = getattr(block, attr)\n",
    "            bn.gamma = state[f'{bn_count}_gamma']\n",
    "            bn.beta = state[f'{bn_count}_beta']\n",
    "            bn.running_mean = state[f'{bn_count}_running_mean']\n",
    "            bn.running_var = state[f'{bn_count}_running_var']\n",
    "            bn_count += 1\n",
    "        if hasattr(block, 'bn_shortcut'):\n",
    "            bn = block.bn_shortcut\n",
    "            bn.gamma = state[f'{bn_count}_gamma']\n",
    "            bn.beta = state[f'{bn_count}_beta']\n",
    "            bn.running_mean = state[f'{bn_count}_running_mean']\n",
    "            bn.running_var = state[f'{bn_count}_running_var']\n",
    "            bn_count += 1\n",
    "    bn = model.bn1\n",
    "    bn.gamma = state[f'{bn_count}_gamma']\n",
    "    bn.beta = state[f'{bn_count}_beta']\n",
    "    bn.running_mean = state[f'{bn_count}_running_mean']\n",
    "    bn.running_var = state[f'{bn_count}_running_var']"
   ]
  },
  {
   "cell_type": "code",
   "execution_count": 4,
   "metadata": {},
   "outputs": [],
   "source": [
    "def evaluate_model(model, x, y_true):\n",
    "    batch_size = 100\n",
    "    preds = []\n",
    "    for i in range(0, x.shape[0], batch_size):\n",
    "        x_batch = x[i:i+batch_size]\n",
    "        logits = model.predict(x_batch)\n",
    "        probs = softmax(logits)\n",
    "        y_pred = np.argmax(probs, axis=1)\n",
    "        preds.append(y_pred)\n",
    "    preds = np.concatenate(preds)\n",
    "    acc = np.sum(preds == y_true) / len(y_true)\n",
    "    return preds, acc"
   ]
  },
  {
   "cell_type": "code",
   "execution_count": 5,
   "metadata": {},
   "outputs": [
    {
     "name": "stdout",
     "output_type": "stream",
     "text": [
      "CIFAR-100 이미 존재\n"
     ]
    }
   ],
   "source": [
    "# CIFAR-100 다운로드 및 데이터 로드\n",
    "download_cifar100()\n",
    "(x_train, x_valid, x_test,\n",
    " t_train_coarse, t_valid_coarse, t_test_coarse,\n",
    " t_train_fine, t_valid_fine, t_test_fine) = load_cifar100_full()"
   ]
  },
  {
   "cell_type": "code",
   "execution_count": 6,
   "metadata": {},
   "outputs": [
    {
     "name": "stdout",
     "output_type": "stream",
     "text": [
      "crop [Fine Label] Valid Accuracy: 0.4826\n",
      "crop+flip [Fine Label] Valid Accuracy: 0.5061\n",
      "crop+flip+cutout [Fine Label] Valid Accuracy: 0.4944\n"
     ]
    }
   ],
   "source": [
    "# 모델 평가\n",
    "model_files = {\n",
    "    \"crop\": \"crop_epoch_10.pkl\",\n",
    "    \"crop+flip\": \"crop+flip_epoch_10.pkl\",\n",
    "    \"crop+flip+cutout\": \"crop+flip+cutout_epoch_10.pkl\"\n",
    "}\n",
    "\n",
    "for name, file in model_files.items():\n",
    "    model = ResNet20()\n",
    "    with open(file, \"rb\") as f:\n",
    "        checkpoint = pickle.load(f)\n",
    "        model_state = checkpoint[\"model\"]\n",
    "    restore_bn_params(model, model_state)\n",
    "    restore_model_parameters(model, model_state)\n",
    "    _, acc = evaluate_model(model, x_test, t_test_fine)\n",
    "    print(f\"{name} model - [Fine Label] Valid Accuracy: {acc:.4f}\")"
   ]
  },
  {
   "cell_type": "code",
   "execution_count": 8,
   "metadata": {},
   "outputs": [
    {
     "name": "stdout",
     "output_type": "stream",
     "text": [
      "[Fine Label] Ensemble Valid Accuracy: 0.5750\n"
     ]
    }
   ],
   "source": [
    "def predict_softmax(model, x):\n",
    "    batch_size = 100\n",
    "    probs = []\n",
    "    for i in range(0, x.shape[0], batch_size):\n",
    "        x_batch = x[i:i+batch_size]\n",
    "        logits = model.predict(x_batch)\n",
    "        prob = softmax(logits)\n",
    "        probs.append(prob)\n",
    "    return np.vstack(probs)\n",
    "    \n",
    "# 앙상블 softmax 예측\n",
    "probs_list = []\n",
    "\n",
    "for name, file in model_files.items():\n",
    "    model = ResNet20()\n",
    "    with open(file, \"rb\") as f:\n",
    "        checkpoint = pickle.load(f)\n",
    "        model_state = checkpoint[\"model\"]\n",
    "    restore_bn_params(model, model_state)\n",
    "    restore_model_parameters(model, model_state)\n",
    "    probs = predict_softmax(model, x_test)\n",
    "    probs_list.append(probs)\n",
    "\n",
    "# softmax 평균 앙상블\n",
    "ensemble_probs = np.mean(probs_list, axis=0)\n",
    "ensemble_preds = np.argmax(ensemble_probs, axis=1)\n",
    "ensemble_acc = np.sum(ensemble_preds == t_test_fine) / len(t_test_fine)\n",
    "\n",
    "print(f\"[Fine Label] Ensemble Valid Accuracy: {ensemble_acc:.4f}\")"
   ]
  },
  {
   "cell_type": "code",
   "execution_count": 9,
   "metadata": {},
   "outputs": [
    {
     "name": "stdout",
     "output_type": "stream",
     "text": [
      "[Fine Label] Weighted Ensemble Accuracy: 0.5688\n"
     ]
    }
   ],
   "source": [
    "# 1. 가중 평균 앙상블 (Weighted Average Ensemble)\n",
    "\n",
    "weights = {\n",
    "    \"crop\": 0.2,\n",
    "    \"crop+flip\": 0.5,\n",
    "    \"crop+flip+cutout\": 0.3\n",
    "}\n",
    "\n",
    "probs_list = []\n",
    "for name, file in model_files.items():\n",
    "    model = ResNet20()\n",
    "    with open(file, \"rb\") as f:\n",
    "        checkpoint = pickle.load(f)\n",
    "        model_state = checkpoint[\"model\"]\n",
    "    restore_bn_params(model, model_state)\n",
    "    restore_model_parameters(model, model_state)\n",
    "    probs = predict_softmax(model, x_test)\n",
    "    probs_list.append(weights[name] * probs)\n",
    "\n",
    "ensemble_probs = np.sum(probs_list, axis=0)\n",
    "ensemble_preds = np.argmax(ensemble_probs, axis=1)\n",
    "ensemble_acc = np.sum(ensemble_preds == t_test_fine) / len(t_test_fine)\n",
    "print(f\"[Fine Label] Weighted Ensemble Accuracy: {ensemble_acc:.4f}\")"
   ]
  },
  {
   "cell_type": "code",
   "execution_count": 10,
   "metadata": {},
   "outputs": [
    {
     "name": "stdout",
     "output_type": "stream",
     "text": [
      "[Fine Label] Logit Averaging Ensemble Accuracy: 0.5796\n"
     ]
    }
   ],
   "source": [
    "# 2. 로그 소프트맥스 평균 (Logit Averaging Ensemble)\n",
    "\n",
    "def predict_logits(model, x):\n",
    "    batch_size = 100\n",
    "    logits_all = []\n",
    "    for i in range(0, x.shape[0], batch_size):\n",
    "        x_batch = x[i:i+batch_size]\n",
    "        logits = model.predict(x_batch)\n",
    "        logits_all.append(logits)\n",
    "    return np.vstack(logits_all)\n",
    "\n",
    "logits_list = []\n",
    "for name, file in model_files.items():\n",
    "    model = ResNet20()\n",
    "    with open(file, \"rb\") as f:\n",
    "        checkpoint = pickle.load(f)\n",
    "        model_state = checkpoint[\"model\"]\n",
    "    restore_bn_params(model, model_state)\n",
    "    restore_model_parameters(model, model_state)\n",
    "    logits = predict_logits(model, x_test)\n",
    "    logits_list.append(logits)\n",
    "\n",
    "ensemble_logits = np.mean(logits_list, axis=0)\n",
    "ensemble_probs = softmax(ensemble_logits)\n",
    "ensemble_preds = np.argmax(ensemble_probs, axis=1)\n",
    "ensemble_acc = np.sum(ensemble_preds == t_test_fine) / len(t_test_fine)\n",
    "print(f\"[Fine Label] Logit Averaging Ensemble Accuracy: {ensemble_acc:.4f}\")"
   ]
  },
  {
   "cell_type": "code",
   "execution_count": null,
   "metadata": {},
   "outputs": [],
   "source": []
  }
 ],
 "metadata": {
  "kernelspec": {
   "display_name": "ann",
   "language": "python",
   "name": "python3"
  },
  "language_info": {
   "codemirror_mode": {
    "name": "ipython",
    "version": 3
   },
   "file_extension": ".py",
   "mimetype": "text/x-python",
   "name": "python",
   "nbconvert_exporter": "python",
   "pygments_lexer": "ipython3",
   "version": "3.12.7"
  }
 },
 "nbformat": 4,
 "nbformat_minor": 2
}
