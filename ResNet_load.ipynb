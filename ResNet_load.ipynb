{
 "cells": [
  {
   "cell_type": "code",
   "execution_count": 1,
   "id": "c5e788e7",
   "metadata": {
    "scrolled": true
   },
   "outputs": [
    {
     "name": "stdout",
     "output_type": "stream",
     "text": [
      "CIFAR-100 already downloaded.\n",
      " CIFAR-100 Dataset Loaded!\n",
      "Train X shape: (45000, 3, 32, 32), Train Y shape: (45000,)\n",
      "Val   X shape: (5000, 3, 32, 32), Val   Y shape: (5000,)\n",
      "Test  X shape: (10000, 3, 32, 32), Test  Y shape: (10000,)\n",
      "Coarse Labels - Train: (50000,), Test: (10000,)\n",
      "✅ Final Test Accuracy: 0.0105\n"
     ]
    }
   ],
   "source": [
    "import numpy as np\n",
    "from ResNet_20 import ResNet20, Trainer, load_cifar100  # 파일명에 맞게 수정\n",
    "\n",
    "# 1. 데이터 로드\n",
    "(_, _), (_, _), (x_test, y_test), _ = load_cifar100()\n",
    "\n",
    "# 2. 모델과 Trainer 초기화 (더미 데이터 사용)\n",
    "model = ResNet20()\n",
    "dummy_data = (np.zeros((1, 3, 32, 32)), np.zeros((1,), dtype=np.int32))\n",
    "trainer = Trainer(model=model, train_data=dummy_data, test_data=dummy_data)\n",
    "\n",
    "# 3. .npz 파일에서 weight 불러오기\n",
    "weights = np.load(\"resnet20_weights2.npz\")  \n",
    "\n",
    "# 4. 모델에 weight 적용\n",
    "params, _ = trainer.get_param_dict_and_grad()\n",
    "for k in params:\n",
    "    if k in weights:\n",
    "        params[k][...] = weights[k]\n",
    "    else:\n",
    "        print(f\"[WARN] {k} not found in weights\")\n",
    "\n",
    "# 5. 정확도 평가\n",
    "acc = model.accuracy(x_test, y_test)\n",
    "print(f\"✅ Final Test Accuracy: {acc:.4f}\")"
   ]
  },
  {
   "cell_type": "code",
   "execution_count": 2,
   "id": "32d6abdc",
   "metadata": {},
   "outputs": [
    {
     "name": "stdout",
     "output_type": "stream",
     "text": [
      "fc_W: (64, 100) range: -1.7976221686971867 ~ 1.4084392524135847\n",
      "0_W: (16, 16, 3, 3) range: -1.3720705326332194 ~ 1.3778501616262822\n"
     ]
    }
   ],
   "source": [
    "weights = np.load(\"resnet20_weights2.npz\")\n",
    "print(\"fc_W:\", weights[\"fc_W\"].shape, \"range:\", weights[\"fc_W\"].min(), \"~\", weights[\"fc_W\"].max())\n",
    "print(\"0_W:\", weights[\"0_W\"].shape, \"range:\", weights[\"0_W\"].min(), \"~\", weights[\"0_W\"].max())\n"
   ]
  },
  {
   "cell_type": "code",
   "execution_count": 3,
   "id": "88a52929",
   "metadata": {},
   "outputs": [
    {
     "name": "stdout",
     "output_type": "stream",
     "text": [
      "Weight keys: ['fc_W', 'fc_b', '0_W', '0_b', '1_W', '1_b', '2_W', '2_b', '3_W', '3_b', '4_W', '4_b', '5_W', '5_b', '6_W', '6_b', '7_W', '7_b', '8_W', '8_b', '9_W', '9_b', '10_W', '10_b', '11_W', '11_b', '12_W', '12_b', '13_W', '13_b', '14_W', '14_b', '15_W', '15_b', '16_W', '16_b', '17_W', '17_b', '18_W', '18_b', '19_W', '19_b']\n"
     ]
    }
   ],
   "source": [
    "print(\"Weight keys:\", list(weights.keys()))"
   ]
  },
  {
   "cell_type": "code",
   "execution_count": 4,
   "id": "d3631664",
   "metadata": {},
   "outputs": [
    {
     "name": "stdout",
     "output_type": "stream",
     "text": [
      "x_test mean: 0.47937703 std: 0.26913947\n"
     ]
    }
   ],
   "source": [
    "print(\"x_test mean:\", x_test.mean(), \"std:\", x_test.std())\n"
   ]
  },
  {
   "cell_type": "code",
   "execution_count": null,
   "id": "8d4571f1",
   "metadata": {},
   "outputs": [],
   "source": []
  }
 ],
 "metadata": {
  "kernelspec": {
   "display_name": "Python (ANN)",
   "language": "python",
   "name": "ann"
  },
  "language_info": {
   "codemirror_mode": {
    "name": "ipython",
    "version": 3
   },
   "file_extension": ".py",
   "mimetype": "text/x-python",
   "name": "python",
   "nbconvert_exporter": "python",
   "pygments_lexer": "ipython3",
   "version": "3.9.21"
  }
 },
 "nbformat": 4,
 "nbformat_minor": 5
}
